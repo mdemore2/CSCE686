{
 "cells": [
  {
   "cell_type": "code",
   "execution_count": 49,
   "metadata": {},
   "outputs": [],
   "source": [
    "import networkx as nx\n",
    "import numpy as np\n",
    "import matplotlib.pyplot as plt\n",
    "import random\n",
    "from timeit import default_timer as timer\n",
    "import pandas as pd\n",
    "from pandas.plotting import scatter_matrix\n",
    "import seaborn as sns\n"
   ]
  },
  {
   "cell_type": "code",
   "execution_count": 5,
   "metadata": {},
   "outputs": [],
   "source": [
    "\n",
    "def bk(graph, P, R=set(), X=set()):\n",
    "    bk.count += 1\n",
    "    if not any((P, X)):\n",
    "        yield R\n",
    "    else:\n",
    "        for node in P.copy():\n",
    "            for r in bk(graph, P.intersection(graph.neighbors(node)),\n",
    "                        R=R.union(set([node])), X=X.intersection(graph.neighbors(node))):\n",
    "                yield r\n",
    "            P.remove(node)\n",
    "            X.add(node)\n",
    "\n",
    "\n",
    "def bk_pivot(graph, P, R=set(), X=set()):\n",
    "    bk_pivot.count += 1\n",
    "    if not any((P, X)):\n",
    "        yield R\n",
    "    else:\n",
    "        P_copy = P.copy()\n",
    "        pivot = random.choice(list(P.union(X)))\n",
    "        # pivot = int(str(random.sample(P_copy, 1)))\n",
    "        for node in P_copy.difference((graph.neighbors(pivot))):\n",
    "            for r in bk_pivot(graph, P.intersection(graph.neighbors(node)),\n",
    "                              R=R.union(set([node])), X=X.intersection(graph.neighbors(node))):\n",
    "                yield r\n",
    "            P.remove(node)\n",
    "            X.add(node)\n",
    "\n",
    "\n",
    "def bk_order_pivot(graph, P, R=set(), X=set()):\n",
    "    bk_order_pivot.count += 1\n",
    "    if not any((P, X)):\n",
    "        yield R\n",
    "    else:\n",
    "        P_copy = P.copy()\n",
    "        pivot = random.choice(list(P.union(X)))\n",
    "        # pivot = int(str(random.sample(P_copy, 1)))\n",
    "        for node in P_copy.difference((graph.neighbors(pivot))):\n",
    "            for r in bk_order_pivot(graph, P.intersection(graph.neighbors(node)),\n",
    "                                    R=R.union(set([node])), X=X.intersection(graph.neighbors(node))):\n",
    "                yield r\n",
    "            P.remove(node)\n",
    "            X.add(node)\n",
    "\n",
    "\n",
    "def bk_order(graph, P, R=set(), X=set()):\n",
    "    for node in P.copy():\n",
    "        for r in bk_order_pivot(graph, P.intersection(graph.neighbors(node)),\n",
    "                                R=R.union(set([node])), X=X.intersection(graph.neighbors(node))):\n",
    "            yield r\n",
    "        P.remove(node)\n",
    "        X.add(node)"
   ]
  },
  {
   "cell_type": "code",
   "execution_count": 42,
   "metadata": {},
   "outputs": [],
   "source": [
    "def run_test():\n",
    "    results = pd.DataFrame()\n",
    "\n",
    "    size_l = (10, 20, 30)\n",
    "    type_l = ('Complete', 'Cycle','Path', 'Wheel')\n",
    "    for type in type_l:\n",
    "        for size in size_l:\n",
    "            if type == 'Complete':\n",
    "                graph = nx.complete_graph(size)\n",
    "            elif type == 'Cycle':\n",
    "                graph = nx.cycle_graph(size)\n",
    "            elif type == 'Star':\n",
    "                graph = nx.star_graph(size)\n",
    "            elif type == 'Path':\n",
    "                graph = nx.path_graph(size)\n",
    "            else:\n",
    "                graph = nx.wheel_graph(size)\n",
    "\n",
    "            graph_o = graph\n",
    "            graph = nx.complement(graph)\n",
    "\n",
    "            bk_list = list()\n",
    "            bk.count = 0\n",
    "            start = timer()\n",
    "            for clique in bk(graph, set(graph.nodes), set(), set()):\n",
    "                bk_list.append(clique)\n",
    "            end = timer()\n",
    "            bk_time = end - start\n",
    "\n",
    "            pivot_list = list()\n",
    "            bk_pivot.count = 0\n",
    "            start = timer()\n",
    "            for clique in bk_pivot(graph, set(graph.nodes), set(), set()):\n",
    "                pivot_list.append(clique)\n",
    "            end = timer()\n",
    "            pivot_time = end - start\n",
    "\n",
    "            order_list = list()\n",
    "            bk_order_pivot.count = 0\n",
    "            start = timer()\n",
    "            for clique in bk_order(graph, set(nx.algorithms.coloring.strategy_largest_first(graph, 1))):\n",
    "                order_list.append(clique)\n",
    "            end = timer()\n",
    "            order_time = end - start\n",
    "            to_add = pd.DataFrame({'Size': [size],\n",
    "                                   'Type': [type],\n",
    "                                   'Graph': [graph_o],\n",
    "                                   'BK Calls': [bk.count],\n",
    "                                   'BK Time': [bk_time],\n",
    "                                   'BK MIS': [bk_list],\n",
    "                                   'Pivot Calls': [bk_pivot.count],\n",
    "                                   'Pivot Time': [pivot_time],\n",
    "                                   'Pivot MIS': [pivot_list],\n",
    "                                   'Order Calls': [bk_order_pivot.count],\n",
    "                                   'Order Time': [order_time],\n",
    "                                   'Order MIS': [order_list]})\n",
    "            results = results.append(to_add)\n",
    "    return results\n"
   ]
  },
  {
   "cell_type": "code",
   "execution_count": 43,
   "metadata": {},
   "outputs": [],
   "source": [
    "results = run_test()"
   ]
  },
  {
   "cell_type": "code",
   "execution_count": 68,
   "metadata": {},
   "outputs": [],
   "source": [
    "def analyze(results):\n",
    "    #print(results.head)\n",
    "    #scatter_matrix(results)\n",
    "    \n",
    "    #results.plot.scatter(x='BK Time',y='Size',color='Blue',label='Bron-Kerbosch')\n",
    "    #plt.show()\n",
    "    #results.plot.scatter(x='Pivot Time',y='Size',color='Green',label='BK with Pivot')\n",
    "    #plt.show()\n",
    "    #results.plot.scatter(x='Order Time',y='Size',color='Red',label='BK with Ordering')\n",
    "    #plt.show()\n",
    "    \n",
    "    sns.pairplot(x_vars=[\"BK Time\"], y_vars=[\"Size\"], data=results, hue=\"Type\", height=5, aspect=1.5)\n",
    "    plt.show()\n",
    "    sns.pairplot(x_vars=[\"Pivot Time\"], y_vars=[\"Size\"], data=results, hue=\"Type\", height=5, aspect=1.5)\n",
    "    plt.show()\n",
    "    sns.pairplot(x_vars=[\"Order Time\"], y_vars=[\"Size\"], data=results, hue=\"Type\", height=5, aspect=1.5)\n",
    "    plt.show()\n",
    "    \n",
    "    "
   ]
  },
  {
   "cell_type": "code",
   "execution_count": 69,
   "metadata": {
    "scrolled": true
   },
   "outputs": [
    {
     "data": {
      "image/png": "[encoded data removed]",
      "text/plain": [
       "<Figure size 623.75x360 with 1 Axes>"
      ]
     },
     "metadata": {
      "needs_background": "light"
     },
     "output_type": "display_data"
    },
    {
     "data": {
      "image/png": "[encoded data removed]",
      "text/plain": [
       "<Figure size 623.75x360 with 1 Axes>"
      ]
     },
     "metadata": {
      "needs_background": "light"
     },
     "output_type": "display_data"
    },
    {
     "data": {
      "image/png": "[encoded data removed]",
      "text/plain": [
       "<Figure size 623.75x360 with 1 Axes>"
      ]
     },
     "metadata": {
      "needs_background": "light"
     },
     "output_type": "display_data"
    }
   ],
   "source": [
    "analyze(results)"
   ]
  },
  {
   "cell_type": "code",
   "execution_count": null,
   "metadata": {},
   "outputs": [],
   "source": []
  }
 ],
 "metadata": {
  "kernelspec": {
   "display_name": "Python 3",
   "language": "python",
   "name": "python3"
  },
  "language_info": {
   "codemirror_mode": {
    "name": "ipython",
    "version": 3
   },
   "file_extension": ".py",
   "mimetype": "text/x-python",
   "name": "python",
   "nbconvert_exporter": "python",
   "pygments_lexer": "ipython3",
   "version": "3.7.6"
  }
 },
 "nbformat": 4,
 "nbformat_minor": 4
}
